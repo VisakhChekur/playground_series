{
 "cells": [
  {
   "cell_type": "markdown",
   "id": "38cbd00f",
   "metadata": {},
   "source": [
    "# January 2021\n",
    "\n",
    "## Table of Contents <a id=toc></a>\n",
    "\n",
    "1. [Problem Statement](#prblm-statement)\n",
    "2. [Exploratory Data Analysis](#eda)\n",
    "3. [Feature Selection](#feature-selection)\n",
    "4. [Modelling](#modelling)\n",
    "    1. [Linear Regression](#linear-regression)\n",
    "    2. [SGD Regressor](#sgd)\n",
    "        1. [Predictions on Test Data w/o tuning](#predictions-sgd-no-tuning)\n",
    "        2. [Hyperparameter Tuning](#tuning-sgd)\n",
    "            1. [Random Search](#sgd-random-search)\n",
    "            2. [Grid Search](#sgd-grid-search)"
   ]
  },
  {
   "cell_type": "markdown",
   "id": "a3d74ade",
   "metadata": {},
   "source": [
    "# [1. Problem Statement](#toc) <a id=prblm-statement></a>\n",
    "\n",
    "The goal is to predict a continuous `target` given a set of continuous features.\n",
    "\n",
    "Since the `target` variable is continuous, this can be treated as a regression problem."
   ]
  },
  {
   "cell_type": "code",
   "execution_count": 1,
   "id": "cb678b38",
   "metadata": {},
   "outputs": [],
   "source": [
    "# standard imports\n",
    "import numpy as np\n",
    "import pandas as pd\n",
    "import seaborn as sns\n",
    "import matplotlib.pyplot as plt\n",
    "\n",
    "# my functions\n",
    "from functions.data_exploration import basic_eda"
   ]
  },
  {
   "cell_type": "code",
   "execution_count": 2,
   "id": "145555ea",
   "metadata": {},
   "outputs": [],
   "source": [
    "# importing the data\n",
    "train_df = pd.read_csv(\"data/train.csv\")\n",
    "test_df = pd.read_csv(\"data/test.csv\")\n",
    "\n",
    "# X/y split\n",
    "X = train_df.drop([\"id\",\"target\"], axis=1)\n",
    "y = train_df['target']"
   ]
  },
  {
   "cell_type": "markdown",
   "id": "644ba838",
   "metadata": {},
   "source": [
    "# [2. Exploratory Data Analysis](#toc) <a id=eda></a>"
   ]
  },
  {
   "cell_type": "code",
   "execution_count": 3,
   "id": "6e6fdd8e",
   "metadata": {},
   "outputs": [
    {
     "name": "stdout",
     "output_type": "stream",
     "text": [
      "<class 'pandas.core.frame.DataFrame'>\n",
      "RangeIndex: 300000 entries, 0 to 299999\n",
      "Data columns (total 16 columns):\n",
      " #   Column  Non-Null Count   Dtype  \n",
      "---  ------  --------------   -----  \n",
      " 0   id      300000 non-null  int64  \n",
      " 1   cont1   300000 non-null  float64\n",
      " 2   cont2   300000 non-null  float64\n",
      " 3   cont3   300000 non-null  float64\n",
      " 4   cont4   300000 non-null  float64\n",
      " 5   cont5   300000 non-null  float64\n",
      " 6   cont6   300000 non-null  float64\n",
      " 7   cont7   300000 non-null  float64\n",
      " 8   cont8   300000 non-null  float64\n",
      " 9   cont9   300000 non-null  float64\n",
      " 10  cont10  300000 non-null  float64\n",
      " 11  cont11  300000 non-null  float64\n",
      " 12  cont12  300000 non-null  float64\n",
      " 13  cont13  300000 non-null  float64\n",
      " 14  cont14  300000 non-null  float64\n",
      " 15  target  300000 non-null  float64\n",
      "dtypes: float64(15), int64(1)\n",
      "memory usage: 36.6 MB\n"
     ]
    }
   ],
   "source": [
    "# looking at what each of the columns are and their data types\n",
    "train_df.info();"
   ]
  },
  {
   "cell_type": "markdown",
   "id": "d1a6adce",
   "metadata": {},
   "source": [
    "From the above, it can be seen that there are 15 features and 300,000 training samples. Furthermore, there seems to be no missing data and all the data types are numerical in nature."
   ]
  },
  {
   "cell_type": "code",
   "execution_count": 4,
   "id": "3fd554a3",
   "metadata": {},
   "outputs": [
    {
     "data": {
      "text/html": [
       "<div>\n",
       "<style scoped>\n",
       "    .dataframe tbody tr th:only-of-type {\n",
       "        vertical-align: middle;\n",
       "    }\n",
       "\n",
       "    .dataframe tbody tr th {\n",
       "        vertical-align: top;\n",
       "    }\n",
       "\n",
       "    .dataframe thead th {\n",
       "        text-align: right;\n",
       "    }\n",
       "</style>\n",
       "<table border=\"1\" class=\"dataframe\">\n",
       "  <thead>\n",
       "    <tr style=\"text-align: right;\">\n",
       "      <th></th>\n",
       "      <th>id</th>\n",
       "      <th>cont1</th>\n",
       "      <th>cont2</th>\n",
       "      <th>cont3</th>\n",
       "      <th>cont4</th>\n",
       "      <th>cont5</th>\n",
       "      <th>cont6</th>\n",
       "      <th>cont7</th>\n",
       "      <th>cont8</th>\n",
       "      <th>cont9</th>\n",
       "      <th>cont10</th>\n",
       "      <th>cont11</th>\n",
       "      <th>cont12</th>\n",
       "      <th>cont13</th>\n",
       "      <th>cont14</th>\n",
       "      <th>target</th>\n",
       "    </tr>\n",
       "  </thead>\n",
       "  <tbody>\n",
       "    <tr>\n",
       "      <th>count</th>\n",
       "      <td>300000.000</td>\n",
       "      <td>300000.000</td>\n",
       "      <td>300000.000</td>\n",
       "      <td>300000.000</td>\n",
       "      <td>300000.000</td>\n",
       "      <td>300000.000</td>\n",
       "      <td>300000.000</td>\n",
       "      <td>300000.000</td>\n",
       "      <td>300000.000</td>\n",
       "      <td>300000.000</td>\n",
       "      <td>300000.000</td>\n",
       "      <td>300000.000</td>\n",
       "      <td>300000.000</td>\n",
       "      <td>300000.000</td>\n",
       "      <td>300000.000</td>\n",
       "      <td>300000.000</td>\n",
       "    </tr>\n",
       "    <tr>\n",
       "      <th>mean</th>\n",
       "      <td>249825.146</td>\n",
       "      <td>0.507</td>\n",
       "      <td>0.498</td>\n",
       "      <td>0.522</td>\n",
       "      <td>0.516</td>\n",
       "      <td>0.502</td>\n",
       "      <td>0.527</td>\n",
       "      <td>0.488</td>\n",
       "      <td>0.525</td>\n",
       "      <td>0.460</td>\n",
       "      <td>0.521</td>\n",
       "      <td>0.484</td>\n",
       "      <td>0.507</td>\n",
       "      <td>0.553</td>\n",
       "      <td>0.504</td>\n",
       "      <td>7.906</td>\n",
       "    </tr>\n",
       "    <tr>\n",
       "      <th>std</th>\n",
       "      <td>144476.733</td>\n",
       "      <td>0.204</td>\n",
       "      <td>0.228</td>\n",
       "      <td>0.201</td>\n",
       "      <td>0.233</td>\n",
       "      <td>0.221</td>\n",
       "      <td>0.218</td>\n",
       "      <td>0.181</td>\n",
       "      <td>0.216</td>\n",
       "      <td>0.197</td>\n",
       "      <td>0.202</td>\n",
       "      <td>0.220</td>\n",
       "      <td>0.219</td>\n",
       "      <td>0.230</td>\n",
       "      <td>0.208</td>\n",
       "      <td>0.733</td>\n",
       "    </tr>\n",
       "    <tr>\n",
       "      <th>min</th>\n",
       "      <td>1.000</td>\n",
       "      <td>-0.082</td>\n",
       "      <td>-0.031</td>\n",
       "      <td>0.021</td>\n",
       "      <td>0.153</td>\n",
       "      <td>0.276</td>\n",
       "      <td>0.066</td>\n",
       "      <td>-0.098</td>\n",
       "      <td>0.217</td>\n",
       "      <td>-0.241</td>\n",
       "      <td>-0.085</td>\n",
       "      <td>0.083</td>\n",
       "      <td>0.089</td>\n",
       "      <td>0.030</td>\n",
       "      <td>0.166</td>\n",
       "      <td>0.000</td>\n",
       "    </tr>\n",
       "    <tr>\n",
       "      <th>25%</th>\n",
       "      <td>124656.500</td>\n",
       "      <td>0.343</td>\n",
       "      <td>0.319</td>\n",
       "      <td>0.344</td>\n",
       "      <td>0.295</td>\n",
       "      <td>0.284</td>\n",
       "      <td>0.356</td>\n",
       "      <td>0.347</td>\n",
       "      <td>0.341</td>\n",
       "      <td>0.331</td>\n",
       "      <td>0.375</td>\n",
       "      <td>0.300</td>\n",
       "      <td>0.310</td>\n",
       "      <td>0.350</td>\n",
       "      <td>0.309</td>\n",
       "      <td>7.329</td>\n",
       "    </tr>\n",
       "    <tr>\n",
       "      <th>50%</th>\n",
       "      <td>249738.500</td>\n",
       "      <td>0.484</td>\n",
       "      <td>0.553</td>\n",
       "      <td>0.551</td>\n",
       "      <td>0.483</td>\n",
       "      <td>0.452</td>\n",
       "      <td>0.471</td>\n",
       "      <td>0.467</td>\n",
       "      <td>0.483</td>\n",
       "      <td>0.417</td>\n",
       "      <td>0.459</td>\n",
       "      <td>0.442</td>\n",
       "      <td>0.487</td>\n",
       "      <td>0.488</td>\n",
       "      <td>0.432</td>\n",
       "      <td>7.941</td>\n",
       "    </tr>\n",
       "    <tr>\n",
       "      <th>75%</th>\n",
       "      <td>374836.250</td>\n",
       "      <td>0.644</td>\n",
       "      <td>0.731</td>\n",
       "      <td>0.648</td>\n",
       "      <td>0.749</td>\n",
       "      <td>0.671</td>\n",
       "      <td>0.694</td>\n",
       "      <td>0.581</td>\n",
       "      <td>0.685</td>\n",
       "      <td>0.575</td>\n",
       "      <td>0.700</td>\n",
       "      <td>0.679</td>\n",
       "      <td>0.694</td>\n",
       "      <td>0.768</td>\n",
       "      <td>0.713</td>\n",
       "      <td>8.470</td>\n",
       "    </tr>\n",
       "    <tr>\n",
       "      <th>max</th>\n",
       "      <td>499999.000</td>\n",
       "      <td>1.016</td>\n",
       "      <td>0.860</td>\n",
       "      <td>1.007</td>\n",
       "      <td>1.010</td>\n",
       "      <td>1.034</td>\n",
       "      <td>1.044</td>\n",
       "      <td>1.066</td>\n",
       "      <td>1.024</td>\n",
       "      <td>1.004</td>\n",
       "      <td>1.200</td>\n",
       "      <td>1.023</td>\n",
       "      <td>1.049</td>\n",
       "      <td>0.978</td>\n",
       "      <td>0.869</td>\n",
       "      <td>10.268</td>\n",
       "    </tr>\n",
       "  </tbody>\n",
       "</table>\n",
       "</div>"
      ],
      "text/plain": [
       "               id       cont1       cont2       cont3       cont4       cont5  \\\n",
       "count  300000.000  300000.000  300000.000  300000.000  300000.000  300000.000   \n",
       "mean   249825.146       0.507       0.498       0.522       0.516       0.502   \n",
       "std    144476.733       0.204       0.228       0.201       0.233       0.221   \n",
       "min         1.000      -0.082      -0.031       0.021       0.153       0.276   \n",
       "25%    124656.500       0.343       0.319       0.344       0.295       0.284   \n",
       "50%    249738.500       0.484       0.553       0.551       0.483       0.452   \n",
       "75%    374836.250       0.644       0.731       0.648       0.749       0.671   \n",
       "max    499999.000       1.016       0.860       1.007       1.010       1.034   \n",
       "\n",
       "            cont6       cont7       cont8       cont9      cont10      cont11  \\\n",
       "count  300000.000  300000.000  300000.000  300000.000  300000.000  300000.000   \n",
       "mean        0.527       0.488       0.525       0.460       0.521       0.484   \n",
       "std         0.218       0.181       0.216       0.197       0.202       0.220   \n",
       "min         0.066      -0.098       0.217      -0.241      -0.085       0.083   \n",
       "25%         0.356       0.347       0.341       0.331       0.375       0.300   \n",
       "50%         0.471       0.467       0.483       0.417       0.459       0.442   \n",
       "75%         0.694       0.581       0.685       0.575       0.700       0.679   \n",
       "max         1.044       1.066       1.024       1.004       1.200       1.023   \n",
       "\n",
       "           cont12      cont13      cont14      target  \n",
       "count  300000.000  300000.000  300000.000  300000.000  \n",
       "mean        0.507       0.553       0.504       7.906  \n",
       "std         0.219       0.230       0.208       0.733  \n",
       "min         0.089       0.030       0.166       0.000  \n",
       "25%         0.310       0.350       0.309       7.329  \n",
       "50%         0.487       0.488       0.432       7.941  \n",
       "75%         0.694       0.768       0.713       8.470  \n",
       "max         1.049       0.978       0.869      10.268  "
      ]
     },
     "execution_count": 4,
     "metadata": {},
     "output_type": "execute_result"
    }
   ],
   "source": [
    "# basic look at the descriptive statistics of the data\n",
    "train_df.describe().round(3)"
   ]
  },
  {
   "cell_type": "markdown",
   "id": "259fbef7",
   "metadata": {},
   "source": [
    "There seems to be no need for scaling since the maximum and minimum values of all the features (except `id`) are more or less between 0 and 1."
   ]
  },
  {
   "cell_type": "code",
   "execution_count": 5,
   "id": "e027574a",
   "metadata": {},
   "outputs": [
    {
     "data": {
      "text/plain": [
       "cont1    -0.032994\n",
       "cont2     0.067102\n",
       "cont3     0.058936\n",
       "cont4     0.005522\n",
       "cont5    -0.005358\n",
       "cont6     0.027955\n",
       "cont7     0.067234\n",
       "cont8     0.014698\n",
       "cont9    -0.013029\n",
       "cont10   -0.021143\n",
       "cont11    0.050996\n",
       "cont12    0.047809\n",
       "cont13   -0.006642\n",
       "cont14   -0.006609\n",
       "dtype: float64"
      ]
     },
     "execution_count": 5,
     "metadata": {},
     "output_type": "execute_result"
    }
   ],
   "source": [
    "# looking at the correlation b/w each of the features and the target\n",
    "corr = X.corrwith(y)\n",
    "corr"
   ]
  },
  {
   "cell_type": "code",
   "execution_count": 6,
   "id": "ecb068eb",
   "metadata": {},
   "outputs": [
    {
     "data": {
      "text/plain": [
       "0.06723394722080096"
      ]
     },
     "execution_count": 6,
     "metadata": {},
     "output_type": "execute_result"
    }
   ],
   "source": [
    "# highest positive correlation value\n",
    "corr.max()"
   ]
  },
  {
   "cell_type": "code",
   "execution_count": 7,
   "id": "37c0a8bc",
   "metadata": {},
   "outputs": [
    {
     "data": {
      "text/plain": [
       "-0.032993698537688285"
      ]
     },
     "execution_count": 7,
     "metadata": {},
     "output_type": "execute_result"
    }
   ],
   "source": [
    "# highest negative correlation value\n",
    "corr.min()"
   ]
  },
  {
   "cell_type": "markdown",
   "id": "e3ffbd56",
   "metadata": {},
   "source": [
    "Due to the fact that the highest of both positive and negative correlation between the various features and the target is only $0.067$, we can assume that a **linear regression model** would vastly **underfit** the data."
   ]
  },
  {
   "cell_type": "code",
   "execution_count": 9,
   "id": "baa32cf8",
   "metadata": {},
   "outputs": [
    {
     "data": {
      "text/html": [
       "<div>\n",
       "<style scoped>\n",
       "    .dataframe tbody tr th:only-of-type {\n",
       "        vertical-align: middle;\n",
       "    }\n",
       "\n",
       "    .dataframe tbody tr th {\n",
       "        vertical-align: top;\n",
       "    }\n",
       "\n",
       "    .dataframe thead th {\n",
       "        text-align: right;\n",
       "    }\n",
       "</style>\n",
       "<table border=\"1\" class=\"dataframe\">\n",
       "  <thead>\n",
       "    <tr style=\"text-align: right;\">\n",
       "      <th></th>\n",
       "      <th>cont1</th>\n",
       "      <th>cont2</th>\n",
       "      <th>cont3</th>\n",
       "      <th>cont4</th>\n",
       "      <th>cont5</th>\n",
       "      <th>cont6</th>\n",
       "      <th>cont7</th>\n",
       "      <th>cont8</th>\n",
       "      <th>cont9</th>\n",
       "      <th>cont10</th>\n",
       "      <th>cont11</th>\n",
       "      <th>cont12</th>\n",
       "      <th>cont13</th>\n",
       "      <th>cont14</th>\n",
       "    </tr>\n",
       "  </thead>\n",
       "  <tbody>\n",
       "    <tr>\n",
       "      <th>cont1</th>\n",
       "      <td>1.000000</td>\n",
       "      <td>-0.080170</td>\n",
       "      <td>-0.419712</td>\n",
       "      <td>0.273705</td>\n",
       "      <td>-0.059012</td>\n",
       "      <td>0.698556</td>\n",
       "      <td>0.341478</td>\n",
       "      <td>0.373340</td>\n",
       "      <td>0.794003</td>\n",
       "      <td>0.725040</td>\n",
       "      <td>0.565717</td>\n",
       "      <td>0.600041</td>\n",
       "      <td>0.570382</td>\n",
       "      <td>0.067294</td>\n",
       "    </tr>\n",
       "    <tr>\n",
       "      <th>cont2</th>\n",
       "      <td>-0.080170</td>\n",
       "      <td>1.000000</td>\n",
       "      <td>0.334487</td>\n",
       "      <td>-0.005533</td>\n",
       "      <td>0.150737</td>\n",
       "      <td>0.023692</td>\n",
       "      <td>0.116222</td>\n",
       "      <td>0.081049</td>\n",
       "      <td>-0.046769</td>\n",
       "      <td>0.035101</td>\n",
       "      <td>0.126024</td>\n",
       "      <td>0.092642</td>\n",
       "      <td>0.017383</td>\n",
       "      <td>0.023972</td>\n",
       "    </tr>\n",
       "    <tr>\n",
       "      <th>cont3</th>\n",
       "      <td>-0.419712</td>\n",
       "      <td>0.334487</td>\n",
       "      <td>1.000000</td>\n",
       "      <td>-0.329131</td>\n",
       "      <td>0.060931</td>\n",
       "      <td>-0.300509</td>\n",
       "      <td>0.106904</td>\n",
       "      <td>-0.309783</td>\n",
       "      <td>-0.406743</td>\n",
       "      <td>-0.289756</td>\n",
       "      <td>-0.075415</td>\n",
       "      <td>-0.103735</td>\n",
       "      <td>-0.386521</td>\n",
       "      <td>-0.065457</td>\n",
       "    </tr>\n",
       "    <tr>\n",
       "      <th>cont4</th>\n",
       "      <td>0.273705</td>\n",
       "      <td>-0.005533</td>\n",
       "      <td>-0.329131</td>\n",
       "      <td>1.000000</td>\n",
       "      <td>0.123526</td>\n",
       "      <td>0.152752</td>\n",
       "      <td>-0.077045</td>\n",
       "      <td>0.324784</td>\n",
       "      <td>0.261927</td>\n",
       "      <td>0.204139</td>\n",
       "      <td>0.063961</td>\n",
       "      <td>0.073291</td>\n",
       "      <td>0.155226</td>\n",
       "      <td>0.054703</td>\n",
       "    </tr>\n",
       "    <tr>\n",
       "      <th>cont5</th>\n",
       "      <td>-0.059012</td>\n",
       "      <td>0.150737</td>\n",
       "      <td>0.060931</td>\n",
       "      <td>0.123526</td>\n",
       "      <td>1.000000</td>\n",
       "      <td>-0.179084</td>\n",
       "      <td>-0.241272</td>\n",
       "      <td>0.010438</td>\n",
       "      <td>-0.071764</td>\n",
       "      <td>-0.102531</td>\n",
       "      <td>-0.222244</td>\n",
       "      <td>-0.192571</td>\n",
       "      <td>-0.140272</td>\n",
       "      <td>0.040552</td>\n",
       "    </tr>\n",
       "    <tr>\n",
       "      <th>cont6</th>\n",
       "      <td>0.698556</td>\n",
       "      <td>0.023692</td>\n",
       "      <td>-0.300509</td>\n",
       "      <td>0.152752</td>\n",
       "      <td>-0.179084</td>\n",
       "      <td>1.000000</td>\n",
       "      <td>0.541975</td>\n",
       "      <td>0.415008</td>\n",
       "      <td>0.716613</td>\n",
       "      <td>0.770628</td>\n",
       "      <td>0.737495</td>\n",
       "      <td>0.757105</td>\n",
       "      <td>0.783604</td>\n",
       "      <td>0.067007</td>\n",
       "    </tr>\n",
       "    <tr>\n",
       "      <th>cont7</th>\n",
       "      <td>0.341478</td>\n",
       "      <td>0.116222</td>\n",
       "      <td>0.106904</td>\n",
       "      <td>-0.077045</td>\n",
       "      <td>-0.241272</td>\n",
       "      <td>0.541975</td>\n",
       "      <td>1.000000</td>\n",
       "      <td>0.150403</td>\n",
       "      <td>0.341759</td>\n",
       "      <td>0.465418</td>\n",
       "      <td>0.672188</td>\n",
       "      <td>0.657310</td>\n",
       "      <td>0.322415</td>\n",
       "      <td>-0.037135</td>\n",
       "    </tr>\n",
       "    <tr>\n",
       "      <th>cont8</th>\n",
       "      <td>0.373340</td>\n",
       "      <td>0.081049</td>\n",
       "      <td>-0.309783</td>\n",
       "      <td>0.324784</td>\n",
       "      <td>0.010438</td>\n",
       "      <td>0.415008</td>\n",
       "      <td>0.150403</td>\n",
       "      <td>1.000000</td>\n",
       "      <td>0.429986</td>\n",
       "      <td>0.362336</td>\n",
       "      <td>0.296598</td>\n",
       "      <td>0.323042</td>\n",
       "      <td>0.475072</td>\n",
       "      <td>0.100645</td>\n",
       "    </tr>\n",
       "    <tr>\n",
       "      <th>cont9</th>\n",
       "      <td>0.794003</td>\n",
       "      <td>-0.046769</td>\n",
       "      <td>-0.406743</td>\n",
       "      <td>0.261927</td>\n",
       "      <td>-0.071764</td>\n",
       "      <td>0.716613</td>\n",
       "      <td>0.341759</td>\n",
       "      <td>0.429986</td>\n",
       "      <td>1.000000</td>\n",
       "      <td>0.725053</td>\n",
       "      <td>0.575095</td>\n",
       "      <td>0.605091</td>\n",
       "      <td>0.628391</td>\n",
       "      <td>0.081992</td>\n",
       "    </tr>\n",
       "    <tr>\n",
       "      <th>cont10</th>\n",
       "      <td>0.725040</td>\n",
       "      <td>0.035101</td>\n",
       "      <td>-0.289756</td>\n",
       "      <td>0.204139</td>\n",
       "      <td>-0.102531</td>\n",
       "      <td>0.770628</td>\n",
       "      <td>0.465418</td>\n",
       "      <td>0.362336</td>\n",
       "      <td>0.725053</td>\n",
       "      <td>1.000000</td>\n",
       "      <td>0.677570</td>\n",
       "      <td>0.701872</td>\n",
       "      <td>0.650809</td>\n",
       "      <td>0.047727</td>\n",
       "    </tr>\n",
       "    <tr>\n",
       "      <th>cont11</th>\n",
       "      <td>0.565717</td>\n",
       "      <td>0.126024</td>\n",
       "      <td>-0.075415</td>\n",
       "      <td>0.063961</td>\n",
       "      <td>-0.222244</td>\n",
       "      <td>0.737495</td>\n",
       "      <td>0.672188</td>\n",
       "      <td>0.296598</td>\n",
       "      <td>0.575095</td>\n",
       "      <td>0.677570</td>\n",
       "      <td>1.000000</td>\n",
       "      <td>0.825869</td>\n",
       "      <td>0.558546</td>\n",
       "      <td>0.011074</td>\n",
       "    </tr>\n",
       "    <tr>\n",
       "      <th>cont12</th>\n",
       "      <td>0.600041</td>\n",
       "      <td>0.092642</td>\n",
       "      <td>-0.103735</td>\n",
       "      <td>0.073291</td>\n",
       "      <td>-0.192571</td>\n",
       "      <td>0.757105</td>\n",
       "      <td>0.657310</td>\n",
       "      <td>0.323042</td>\n",
       "      <td>0.605091</td>\n",
       "      <td>0.701872</td>\n",
       "      <td>0.825869</td>\n",
       "      <td>1.000000</td>\n",
       "      <td>0.565462</td>\n",
       "      <td>0.022697</td>\n",
       "    </tr>\n",
       "    <tr>\n",
       "      <th>cont13</th>\n",
       "      <td>0.570382</td>\n",
       "      <td>0.017383</td>\n",
       "      <td>-0.386521</td>\n",
       "      <td>0.155226</td>\n",
       "      <td>-0.140272</td>\n",
       "      <td>0.783604</td>\n",
       "      <td>0.322415</td>\n",
       "      <td>0.475072</td>\n",
       "      <td>0.628391</td>\n",
       "      <td>0.650809</td>\n",
       "      <td>0.558546</td>\n",
       "      <td>0.565462</td>\n",
       "      <td>1.000000</td>\n",
       "      <td>0.103839</td>\n",
       "    </tr>\n",
       "    <tr>\n",
       "      <th>cont14</th>\n",
       "      <td>0.067294</td>\n",
       "      <td>0.023972</td>\n",
       "      <td>-0.065457</td>\n",
       "      <td>0.054703</td>\n",
       "      <td>0.040552</td>\n",
       "      <td>0.067007</td>\n",
       "      <td>-0.037135</td>\n",
       "      <td>0.100645</td>\n",
       "      <td>0.081992</td>\n",
       "      <td>0.047727</td>\n",
       "      <td>0.011074</td>\n",
       "      <td>0.022697</td>\n",
       "      <td>0.103839</td>\n",
       "      <td>1.000000</td>\n",
       "    </tr>\n",
       "  </tbody>\n",
       "</table>\n",
       "</div>"
      ],
      "text/plain": [
       "           cont1     cont2     cont3     cont4     cont5     cont6     cont7  \\\n",
       "cont1   1.000000 -0.080170 -0.419712  0.273705 -0.059012  0.698556  0.341478   \n",
       "cont2  -0.080170  1.000000  0.334487 -0.005533  0.150737  0.023692  0.116222   \n",
       "cont3  -0.419712  0.334487  1.000000 -0.329131  0.060931 -0.300509  0.106904   \n",
       "cont4   0.273705 -0.005533 -0.329131  1.000000  0.123526  0.152752 -0.077045   \n",
       "cont5  -0.059012  0.150737  0.060931  0.123526  1.000000 -0.179084 -0.241272   \n",
       "cont6   0.698556  0.023692 -0.300509  0.152752 -0.179084  1.000000  0.541975   \n",
       "cont7   0.341478  0.116222  0.106904 -0.077045 -0.241272  0.541975  1.000000   \n",
       "cont8   0.373340  0.081049 -0.309783  0.324784  0.010438  0.415008  0.150403   \n",
       "cont9   0.794003 -0.046769 -0.406743  0.261927 -0.071764  0.716613  0.341759   \n",
       "cont10  0.725040  0.035101 -0.289756  0.204139 -0.102531  0.770628  0.465418   \n",
       "cont11  0.565717  0.126024 -0.075415  0.063961 -0.222244  0.737495  0.672188   \n",
       "cont12  0.600041  0.092642 -0.103735  0.073291 -0.192571  0.757105  0.657310   \n",
       "cont13  0.570382  0.017383 -0.386521  0.155226 -0.140272  0.783604  0.322415   \n",
       "cont14  0.067294  0.023972 -0.065457  0.054703  0.040552  0.067007 -0.037135   \n",
       "\n",
       "           cont8     cont9    cont10    cont11    cont12    cont13    cont14  \n",
       "cont1   0.373340  0.794003  0.725040  0.565717  0.600041  0.570382  0.067294  \n",
       "cont2   0.081049 -0.046769  0.035101  0.126024  0.092642  0.017383  0.023972  \n",
       "cont3  -0.309783 -0.406743 -0.289756 -0.075415 -0.103735 -0.386521 -0.065457  \n",
       "cont4   0.324784  0.261927  0.204139  0.063961  0.073291  0.155226  0.054703  \n",
       "cont5   0.010438 -0.071764 -0.102531 -0.222244 -0.192571 -0.140272  0.040552  \n",
       "cont6   0.415008  0.716613  0.770628  0.737495  0.757105  0.783604  0.067007  \n",
       "cont7   0.150403  0.341759  0.465418  0.672188  0.657310  0.322415 -0.037135  \n",
       "cont8   1.000000  0.429986  0.362336  0.296598  0.323042  0.475072  0.100645  \n",
       "cont9   0.429986  1.000000  0.725053  0.575095  0.605091  0.628391  0.081992  \n",
       "cont10  0.362336  0.725053  1.000000  0.677570  0.701872  0.650809  0.047727  \n",
       "cont11  0.296598  0.575095  0.677570  1.000000  0.825869  0.558546  0.011074  \n",
       "cont12  0.323042  0.605091  0.701872  0.825869  1.000000  0.565462  0.022697  \n",
       "cont13  0.475072  0.628391  0.650809  0.558546  0.565462  1.000000  0.103839  \n",
       "cont14  0.100645  0.081992  0.047727  0.011074  0.022697  0.103839  1.000000  "
      ]
     },
     "execution_count": 9,
     "metadata": {},
     "output_type": "execute_result"
    }
   ],
   "source": [
    "# the correlation between the various features themselves\n",
    "corr_mat = X.corr()\n",
    "corr_mat"
   ]
  },
  {
   "cell_type": "code",
   "execution_count": 10,
   "id": "9d1f3096",
   "metadata": {},
   "outputs": [
    {
     "data": {
      "text/html": [
       "<div>\n",
       "<style scoped>\n",
       "    .dataframe tbody tr th:only-of-type {\n",
       "        vertical-align: middle;\n",
       "    }\n",
       "\n",
       "    .dataframe tbody tr th {\n",
       "        vertical-align: top;\n",
       "    }\n",
       "\n",
       "    .dataframe thead th {\n",
       "        text-align: right;\n",
       "    }\n",
       "</style>\n",
       "<table border=\"1\" class=\"dataframe\">\n",
       "  <thead>\n",
       "    <tr style=\"text-align: right;\">\n",
       "      <th></th>\n",
       "      <th>cont1</th>\n",
       "      <th>cont2</th>\n",
       "      <th>cont3</th>\n",
       "      <th>cont4</th>\n",
       "      <th>cont5</th>\n",
       "      <th>cont6</th>\n",
       "      <th>cont7</th>\n",
       "      <th>cont8</th>\n",
       "      <th>cont9</th>\n",
       "      <th>cont10</th>\n",
       "      <th>cont11</th>\n",
       "      <th>cont12</th>\n",
       "      <th>cont13</th>\n",
       "      <th>cont14</th>\n",
       "    </tr>\n",
       "  </thead>\n",
       "  <tbody>\n",
       "    <tr>\n",
       "      <th>cont1</th>\n",
       "      <td>1.000000</td>\n",
       "      <td>NaN</td>\n",
       "      <td>NaN</td>\n",
       "      <td>NaN</td>\n",
       "      <td>NaN</td>\n",
       "      <td>0.698556</td>\n",
       "      <td>NaN</td>\n",
       "      <td>NaN</td>\n",
       "      <td>0.794003</td>\n",
       "      <td>0.725040</td>\n",
       "      <td>0.565717</td>\n",
       "      <td>0.600041</td>\n",
       "      <td>0.570382</td>\n",
       "      <td>NaN</td>\n",
       "    </tr>\n",
       "    <tr>\n",
       "      <th>cont2</th>\n",
       "      <td>NaN</td>\n",
       "      <td>1.0</td>\n",
       "      <td>NaN</td>\n",
       "      <td>NaN</td>\n",
       "      <td>NaN</td>\n",
       "      <td>NaN</td>\n",
       "      <td>NaN</td>\n",
       "      <td>NaN</td>\n",
       "      <td>NaN</td>\n",
       "      <td>NaN</td>\n",
       "      <td>NaN</td>\n",
       "      <td>NaN</td>\n",
       "      <td>NaN</td>\n",
       "      <td>NaN</td>\n",
       "    </tr>\n",
       "    <tr>\n",
       "      <th>cont3</th>\n",
       "      <td>NaN</td>\n",
       "      <td>NaN</td>\n",
       "      <td>1.0</td>\n",
       "      <td>NaN</td>\n",
       "      <td>NaN</td>\n",
       "      <td>NaN</td>\n",
       "      <td>NaN</td>\n",
       "      <td>NaN</td>\n",
       "      <td>NaN</td>\n",
       "      <td>NaN</td>\n",
       "      <td>NaN</td>\n",
       "      <td>NaN</td>\n",
       "      <td>NaN</td>\n",
       "      <td>NaN</td>\n",
       "    </tr>\n",
       "    <tr>\n",
       "      <th>cont4</th>\n",
       "      <td>NaN</td>\n",
       "      <td>NaN</td>\n",
       "      <td>NaN</td>\n",
       "      <td>1.0</td>\n",
       "      <td>NaN</td>\n",
       "      <td>NaN</td>\n",
       "      <td>NaN</td>\n",
       "      <td>NaN</td>\n",
       "      <td>NaN</td>\n",
       "      <td>NaN</td>\n",
       "      <td>NaN</td>\n",
       "      <td>NaN</td>\n",
       "      <td>NaN</td>\n",
       "      <td>NaN</td>\n",
       "    </tr>\n",
       "    <tr>\n",
       "      <th>cont5</th>\n",
       "      <td>NaN</td>\n",
       "      <td>NaN</td>\n",
       "      <td>NaN</td>\n",
       "      <td>NaN</td>\n",
       "      <td>1.0</td>\n",
       "      <td>NaN</td>\n",
       "      <td>NaN</td>\n",
       "      <td>NaN</td>\n",
       "      <td>NaN</td>\n",
       "      <td>NaN</td>\n",
       "      <td>NaN</td>\n",
       "      <td>NaN</td>\n",
       "      <td>NaN</td>\n",
       "      <td>NaN</td>\n",
       "    </tr>\n",
       "    <tr>\n",
       "      <th>cont6</th>\n",
       "      <td>0.698556</td>\n",
       "      <td>NaN</td>\n",
       "      <td>NaN</td>\n",
       "      <td>NaN</td>\n",
       "      <td>NaN</td>\n",
       "      <td>1.000000</td>\n",
       "      <td>0.541975</td>\n",
       "      <td>NaN</td>\n",
       "      <td>0.716613</td>\n",
       "      <td>0.770628</td>\n",
       "      <td>0.737495</td>\n",
       "      <td>0.757105</td>\n",
       "      <td>0.783604</td>\n",
       "      <td>NaN</td>\n",
       "    </tr>\n",
       "    <tr>\n",
       "      <th>cont7</th>\n",
       "      <td>NaN</td>\n",
       "      <td>NaN</td>\n",
       "      <td>NaN</td>\n",
       "      <td>NaN</td>\n",
       "      <td>NaN</td>\n",
       "      <td>0.541975</td>\n",
       "      <td>1.000000</td>\n",
       "      <td>NaN</td>\n",
       "      <td>NaN</td>\n",
       "      <td>NaN</td>\n",
       "      <td>0.672188</td>\n",
       "      <td>0.657310</td>\n",
       "      <td>NaN</td>\n",
       "      <td>NaN</td>\n",
       "    </tr>\n",
       "    <tr>\n",
       "      <th>cont8</th>\n",
       "      <td>NaN</td>\n",
       "      <td>NaN</td>\n",
       "      <td>NaN</td>\n",
       "      <td>NaN</td>\n",
       "      <td>NaN</td>\n",
       "      <td>NaN</td>\n",
       "      <td>NaN</td>\n",
       "      <td>1.0</td>\n",
       "      <td>NaN</td>\n",
       "      <td>NaN</td>\n",
       "      <td>NaN</td>\n",
       "      <td>NaN</td>\n",
       "      <td>NaN</td>\n",
       "      <td>NaN</td>\n",
       "    </tr>\n",
       "    <tr>\n",
       "      <th>cont9</th>\n",
       "      <td>0.794003</td>\n",
       "      <td>NaN</td>\n",
       "      <td>NaN</td>\n",
       "      <td>NaN</td>\n",
       "      <td>NaN</td>\n",
       "      <td>0.716613</td>\n",
       "      <td>NaN</td>\n",
       "      <td>NaN</td>\n",
       "      <td>1.000000</td>\n",
       "      <td>0.725053</td>\n",
       "      <td>0.575095</td>\n",
       "      <td>0.605091</td>\n",
       "      <td>0.628391</td>\n",
       "      <td>NaN</td>\n",
       "    </tr>\n",
       "    <tr>\n",
       "      <th>cont10</th>\n",
       "      <td>0.725040</td>\n",
       "      <td>NaN</td>\n",
       "      <td>NaN</td>\n",
       "      <td>NaN</td>\n",
       "      <td>NaN</td>\n",
       "      <td>0.770628</td>\n",
       "      <td>NaN</td>\n",
       "      <td>NaN</td>\n",
       "      <td>0.725053</td>\n",
       "      <td>1.000000</td>\n",
       "      <td>0.677570</td>\n",
       "      <td>0.701872</td>\n",
       "      <td>0.650809</td>\n",
       "      <td>NaN</td>\n",
       "    </tr>\n",
       "    <tr>\n",
       "      <th>cont11</th>\n",
       "      <td>0.565717</td>\n",
       "      <td>NaN</td>\n",
       "      <td>NaN</td>\n",
       "      <td>NaN</td>\n",
       "      <td>NaN</td>\n",
       "      <td>0.737495</td>\n",
       "      <td>0.672188</td>\n",
       "      <td>NaN</td>\n",
       "      <td>0.575095</td>\n",
       "      <td>0.677570</td>\n",
       "      <td>1.000000</td>\n",
       "      <td>0.825869</td>\n",
       "      <td>0.558546</td>\n",
       "      <td>NaN</td>\n",
       "    </tr>\n",
       "    <tr>\n",
       "      <th>cont12</th>\n",
       "      <td>0.600041</td>\n",
       "      <td>NaN</td>\n",
       "      <td>NaN</td>\n",
       "      <td>NaN</td>\n",
       "      <td>NaN</td>\n",
       "      <td>0.757105</td>\n",
       "      <td>0.657310</td>\n",
       "      <td>NaN</td>\n",
       "      <td>0.605091</td>\n",
       "      <td>0.701872</td>\n",
       "      <td>0.825869</td>\n",
       "      <td>1.000000</td>\n",
       "      <td>0.565462</td>\n",
       "      <td>NaN</td>\n",
       "    </tr>\n",
       "    <tr>\n",
       "      <th>cont13</th>\n",
       "      <td>0.570382</td>\n",
       "      <td>NaN</td>\n",
       "      <td>NaN</td>\n",
       "      <td>NaN</td>\n",
       "      <td>NaN</td>\n",
       "      <td>0.783604</td>\n",
       "      <td>NaN</td>\n",
       "      <td>NaN</td>\n",
       "      <td>0.628391</td>\n",
       "      <td>0.650809</td>\n",
       "      <td>0.558546</td>\n",
       "      <td>0.565462</td>\n",
       "      <td>1.000000</td>\n",
       "      <td>NaN</td>\n",
       "    </tr>\n",
       "    <tr>\n",
       "      <th>cont14</th>\n",
       "      <td>NaN</td>\n",
       "      <td>NaN</td>\n",
       "      <td>NaN</td>\n",
       "      <td>NaN</td>\n",
       "      <td>NaN</td>\n",
       "      <td>NaN</td>\n",
       "      <td>NaN</td>\n",
       "      <td>NaN</td>\n",
       "      <td>NaN</td>\n",
       "      <td>NaN</td>\n",
       "      <td>NaN</td>\n",
       "      <td>NaN</td>\n",
       "      <td>NaN</td>\n",
       "      <td>1.0</td>\n",
       "    </tr>\n",
       "  </tbody>\n",
       "</table>\n",
       "</div>"
      ],
      "text/plain": [
       "           cont1  cont2  cont3  cont4  cont5     cont6     cont7  cont8  \\\n",
       "cont1   1.000000    NaN    NaN    NaN    NaN  0.698556       NaN    NaN   \n",
       "cont2        NaN    1.0    NaN    NaN    NaN       NaN       NaN    NaN   \n",
       "cont3        NaN    NaN    1.0    NaN    NaN       NaN       NaN    NaN   \n",
       "cont4        NaN    NaN    NaN    1.0    NaN       NaN       NaN    NaN   \n",
       "cont5        NaN    NaN    NaN    NaN    1.0       NaN       NaN    NaN   \n",
       "cont6   0.698556    NaN    NaN    NaN    NaN  1.000000  0.541975    NaN   \n",
       "cont7        NaN    NaN    NaN    NaN    NaN  0.541975  1.000000    NaN   \n",
       "cont8        NaN    NaN    NaN    NaN    NaN       NaN       NaN    1.0   \n",
       "cont9   0.794003    NaN    NaN    NaN    NaN  0.716613       NaN    NaN   \n",
       "cont10  0.725040    NaN    NaN    NaN    NaN  0.770628       NaN    NaN   \n",
       "cont11  0.565717    NaN    NaN    NaN    NaN  0.737495  0.672188    NaN   \n",
       "cont12  0.600041    NaN    NaN    NaN    NaN  0.757105  0.657310    NaN   \n",
       "cont13  0.570382    NaN    NaN    NaN    NaN  0.783604       NaN    NaN   \n",
       "cont14       NaN    NaN    NaN    NaN    NaN       NaN       NaN    NaN   \n",
       "\n",
       "           cont9    cont10    cont11    cont12    cont13  cont14  \n",
       "cont1   0.794003  0.725040  0.565717  0.600041  0.570382     NaN  \n",
       "cont2        NaN       NaN       NaN       NaN       NaN     NaN  \n",
       "cont3        NaN       NaN       NaN       NaN       NaN     NaN  \n",
       "cont4        NaN       NaN       NaN       NaN       NaN     NaN  \n",
       "cont5        NaN       NaN       NaN       NaN       NaN     NaN  \n",
       "cont6   0.716613  0.770628  0.737495  0.757105  0.783604     NaN  \n",
       "cont7        NaN       NaN  0.672188  0.657310       NaN     NaN  \n",
       "cont8        NaN       NaN       NaN       NaN       NaN     NaN  \n",
       "cont9   1.000000  0.725053  0.575095  0.605091  0.628391     NaN  \n",
       "cont10  0.725053  1.000000  0.677570  0.701872  0.650809     NaN  \n",
       "cont11  0.575095  0.677570  1.000000  0.825869  0.558546     NaN  \n",
       "cont12  0.605091  0.701872  0.825869  1.000000  0.565462     NaN  \n",
       "cont13  0.628391  0.650809  0.558546  0.565462  1.000000     NaN  \n",
       "cont14       NaN       NaN       NaN       NaN       NaN     1.0  "
      ]
     },
     "execution_count": 10,
     "metadata": {},
     "output_type": "execute_result"
    }
   ],
   "source": [
    "# finding the variables that are have at least a correlation coefficient of 0.5\n",
    "corr_mat[corr_mat > 0.5]"
   ]
  },
  {
   "cell_type": "code",
   "execution_count": 11,
   "id": "b46a5b98",
   "metadata": {},
   "outputs": [
    {
     "data": {
      "image/png": "[encoded data removed]",
      "text/plain": [
       "<Figure size 720x504 with 2 Axes>"
      ]
     },
     "metadata": {
      "needs_background": "light"
     },
     "output_type": "display_data"
    }
   ],
   "source": [
    "# heatmap of correlation matrix\n",
    "basic_eda.corr_heatmap(corr_mat)"
   ]
  },
  {
   "cell_type": "markdown",
   "id": "e757ace0",
   "metadata": {},
   "source": [
    "Since there are a few features that are highly correlated with each other (correlation coefficient greater than 0.5), there is scope for feature reduction based on the correlation."
   ]
  },
  {
   "cell_type": "code",
   "execution_count": 12,
   "id": "9dd9dd1c",
   "metadata": {},
   "outputs": [
    {
     "data": {
      "image/png": "[encoded data removed]",
      "text/plain": [
       "<Figure size 360x360 with 1 Axes>"
      ]
     },
     "metadata": {
      "needs_background": "light"
     },
     "output_type": "display_data"
    },
    {
     "data": {
      "image/png": "[encoded data removed]",
      "text/plain": [
       "<Figure size 360x360 with 1 Axes>"
      ]
     },
     "metadata": {
      "needs_background": "light"
     },
     "output_type": "display_data"
    },
    {
     "data": {
      "image/png": "[encoded data removed]",
      "text/plain": [
       "<Figure size 360x360 with 1 Axes>"
      ]
     },
     "metadata": {
      "needs_background": "light"
     },
     "output_type": "display_data"
    },
    {
     "data": {
      "image/png": "[encoded data removed]",
      "text/plain": [
       "<Figure size 360x360 with 1 Axes>"
      ]
     },
     "metadata": {
      "needs_background": "light"
     },
     "output_type": "display_data"
    },
    {
     "data": {
      "image/png": "[encoded data removed]",
      "text/plain": [
       "<Figure size 360x360 with 1 Axes>"
      ]
     },
     "metadata": {
      "needs_background": "light"
     },
     "output_type": "display_data"
    },
    {
     "data": {
      "image/png": "[encoded data removed]",
      "text/plain": [
       "<Figure size 360x360 with 1 Axes>"
      ]
     },
     "metadata": {
      "needs_background": "light"
     },
     "output_type": "display_data"
    },
    {
     "data": {
      "image/png": "[encoded data removed]",
      "text/plain": [
       "<Figure size 360x360 with 1 Axes>"
      ]
     },
     "metadata": {
      "needs_background": "light"
     },
     "output_type": "display_data"
    },
    {
     "data": {
      "image/png": "[encoded data removed]",
      "text/plain": [
       "<Figure size 360x360 with 1 Axes>"
      ]
     },
     "metadata": {
      "needs_background": "light"
     },
     "output_type": "display_data"
    },
    {
     "data": {
      "image/png": "[encoded data removed]",
      "text/plain": [
       "<Figure size 360x360 with 1 Axes>"
      ]
     },
     "metadata": {
      "needs_background": "light"
     },
     "output_type": "display_data"
    },
    {
     "data": {
      "image/png": "[encoded data removed]",
      "text/plain": [
       "<Figure size 360x360 with 1 Axes>"
      ]
     },
     "metadata": {
      "needs_background": "light"
     },
     "output_type": "display_data"
    },
    {
     "data": {
      "image/png": "[encoded data removed]",
      "text/plain": [
       "<Figure size 360x360 with 1 Axes>"
      ]
     },
     "metadata": {
      "needs_background": "light"
     },
     "output_type": "display_data"
    },
    {
     "data": {
      "image/png": "[encoded data removed]",
      "text/plain": [
       "<Figure size 360x360 with 1 Axes>"
      ]
     },
     "metadata": {
      "needs_background": "light"
     },
     "output_type": "display_data"
    },
    {
     "data": {
      "image/png": "[encoded data removed]",
      "text/plain": [
       "<Figure size 360x360 with 1 Axes>"
      ]
     },
     "metadata": {
      "needs_background": "light"
     },
     "output_type": "display_data"
    },
    {
     "data": {
      "image/png": "[encoded data removed]",
      "text/plain": [
       "<Figure size 360x360 with 1 Axes>"
      ]
     },
     "metadata": {
      "needs_background": "light"
     },
     "output_type": "display_data"
    }
   ],
   "source": [
    "# distributions of all the features\n",
    "for col in list(X.columns):\n",
    "    sns.displot(X[col])\n",
    "    plt.show()"
   ]
  },
  {
   "cell_type": "markdown",
   "id": "83fd4ae8",
   "metadata": {},
   "source": [
    "The features all have skewed distributions, so we should normalize them before training the models."
   ]
  },
  {
   "cell_type": "markdown",
   "id": "c6e8c5dd",
   "metadata": {},
   "source": [
    "# [3. Data Preprocessing](#toc) <a id=preprocessing></a>"
   ]
  },
  {
   "cell_type": "code",
   "execution_count": 14,
   "id": "7d2ebb23",
   "metadata": {},
   "outputs": [],
   "source": [
    "# train/validation split\n",
    "from sklearn.model_selection import train_test_split\n",
    "\n",
    "X_train, X_val, y_train, y_val = train_test_split(X, y)"
   ]
  },
  {
   "cell_type": "code",
   "execution_count": 15,
   "id": "23de49cf",
   "metadata": {},
   "outputs": [],
   "source": [
    "# normalizing the data\n",
    "from sklearn.preprocessing import StandardScaler\n",
    "\n",
    "scaler = StandardScaler()\n",
    "X_train = scaler.fit_transform(X_train)\n",
    "X_val = scaler.transform(X_val)"
   ]
  },
  {
   "cell_type": "markdown",
   "id": "7d2c8690",
   "metadata": {},
   "source": [
    "# [4. Modelling](#toc) <a id=modelling></a>"
   ]
  },
  {
   "cell_type": "markdown",
   "id": "5ddd2164",
   "metadata": {},
   "source": [
    "## [4.1 Linear Regression](#toc) <a id=linear-regression></a>\n",
    "\n",
    "From the correlation coefficients with respect to the target, we could assume that a linear regression model would not be very effective, but just fitting a simple linear regression model to confirm the assumption."
   ]
  },
  {
   "cell_type": "code",
   "execution_count": 16,
   "id": "ed68a71d",
   "metadata": {},
   "outputs": [
    {
     "data": {
      "text/plain": [
       "0.018123555250413648"
      ]
     },
     "execution_count": 16,
     "metadata": {},
     "output_type": "execute_result"
    }
   ],
   "source": [
    "from sklearn.linear_model import LinearRegression\n",
    "\n",
    "lin_reg = LinearRegression()\n",
    "lin_reg.fit(X_train, y_train)\n",
    "lin_reg.score(X_val, y_val)"
   ]
  },
  {
   "cell_type": "markdown",
   "id": "49cd2194",
   "metadata": {},
   "source": [
    "As seen, the linear regression model performs poorly on the validation set."
   ]
  },
  {
   "cell_type": "markdown",
   "id": "43eadbde",
   "metadata": {},
   "source": [
    "## [4.2 SGD Regressor](#toc) <a id=sgd></a>\n",
    "\n",
    "The penalty will be `l1 norm` which will have an effect of feature selection due to the coefficients of some features potentially becoming 0."
   ]
  },
  {
   "cell_type": "code",
   "execution_count": 17,
   "id": "272c8f6a",
   "metadata": {},
   "outputs": [],
   "source": [
    "from sklearn.linear_model import SGDRegressor\n",
    "from sklearn.model_selection import cross_validate\n",
    "from sklearn.metrics import mean_squared_error, make_scorer\n",
    "\n",
    "sgd_reg = SGDRegressor(penalty='l1')\n",
    "scorer = make_scorer(mean_squared_error)\n",
    "cv_scores = cross_validate(\n",
    "    sgd_reg,\n",
    "    X_train,\n",
    "    y_train,\n",
    "    cv=5,\n",
    "    scoring=scorer,\n",
    ")"
   ]
  },
  {
   "cell_type": "code",
   "execution_count": 18,
   "id": "2b479361",
   "metadata": {},
   "outputs": [
    {
     "data": {
      "text/plain": [
       "0.728"
      ]
     },
     "execution_count": 18,
     "metadata": {},
     "output_type": "execute_result"
    }
   ],
   "source": [
    "# average RMSE based on 5-fold cross validation\n",
    "np.sqrt(cv_scores['test_score']).mean().round(3)"
   ]
  },
  {
   "cell_type": "code",
   "execution_count": 19,
   "id": "fa0f17bf",
   "metadata": {},
   "outputs": [
    {
     "data": {
      "text/plain": [
       "0.7258917095949289"
      ]
     },
     "execution_count": 19,
     "metadata": {},
     "output_type": "execute_result"
    }
   ],
   "source": [
    "# fitting the model on the training data\n",
    "sgd_reg.fit(X_train, y_train);\n",
    "\n",
    "# scoring the model on the validation set\n",
    "y_val_preds = sgd_reg.predict(X_val)\n",
    "np.sqrt(mean_squared_error(y_val, y_val_preds))"
   ]
  },
  {
   "cell_type": "markdown",
   "id": "eccd4ff9",
   "metadata": {},
   "source": [
    "### [4.2.1 Predictions on Test Data w/o tuning](#toc) <a id=predictions-sgd-no-tuning></a>"
   ]
  },
  {
   "cell_type": "code",
   "execution_count": 20,
   "id": "be61560a",
   "metadata": {},
   "outputs": [
    {
     "name": "stderr",
     "output_type": "stream",
     "text": [
      "C:\\ProgramData\\Miniconda3\\lib\\site-packages\\sklearn\\base.py:438: UserWarning: X has feature names, but SGDRegressor was fitted without feature names\n",
      "  warnings.warn(\n"
     ]
    }
   ],
   "source": [
    "X_test = test_df.drop(\"id\", axis=1)\n",
    "y_preds = sgd_reg.predict(X_test)\n",
    "\n",
    "submit_data = {\n",
    "    'id': test_df['id'],\n",
    "    'target': y_preds,\n",
    "}\n",
    "submission_df = pd.DataFrame(submit_data)\n",
    "submission_df.to_csv(\"submissions/submit_1_sgd.csv\", index=False)"
   ]
  },
  {
   "cell_type": "markdown",
   "id": "fb47f284",
   "metadata": {},
   "source": [
    "### [4.2.2 Hyperparameter Tuning](#toc) <a id=tuning-sgd></a>"
   ]
  },
  {
   "cell_type": "code",
   "execution_count": 21,
   "id": "0660a519",
   "metadata": {},
   "outputs": [],
   "source": [
    "sgd_reg = SGDRegressor()\n",
    "params = {\n",
    "    \"penalty\": [\"l2\", \"elasticnet\", \"l1\"],\n",
    "    \"l1_ratio\": [0.1, 0.15, 0.2],\n",
    "    \"max_iter\": [1000, 1200, 1400],\n",
    "    \"learning_rate\": ['constant', 'optimal', 'invscaling'],\n",
    "    \"warm_start\": [\"True\", \"False\"],\n",
    "}\n",
    "scorer = make_scorer(mean_squared_error, greater_is_better=False)"
   ]
  },
  {
   "cell_type": "markdown",
   "id": "466279d6",
   "metadata": {},
   "source": [
    "#### [4.2.2.1 RandomSearch](#toc) <a id=sgd-random-search></a>"
   ]
  },
  {
   "cell_type": "code",
   "execution_count": 22,
   "id": "10e8c1dd",
   "metadata": {},
   "outputs": [
    {
     "data": {
      "text/plain": [
       "RandomizedSearchCV(cv=5, estimator=SGDRegressor(), n_iter=50,\n",
       "                   param_distributions={'l1_ratio': [0.1, 0.15, 0.2],\n",
       "                                        'learning_rate': ['constant', 'optimal',\n",
       "                                                          'invscaling'],\n",
       "                                        'max_iter': [1000, 1200, 1400],\n",
       "                                        'penalty': ['l2', 'elasticnet', 'l1'],\n",
       "                                        'warm_start': ['True', 'False']},\n",
       "                   scoring=make_scorer(mean_squared_error, greater_is_better=False))"
      ]
     },
     "execution_count": 22,
     "metadata": {},
     "output_type": "execute_result"
    }
   ],
   "source": [
    "from sklearn.model_selection import RandomizedSearchCV\n",
    "\n",
    "rs_reg = RandomizedSearchCV(\n",
    "    sgd_reg,\n",
    "    params,\n",
    "    n_iter = 50,\n",
    "    scoring=scorer,\n",
    "    cv=5,\n",
    ")\n",
    "rs_reg.fit(X_train, y_train)"
   ]
  },
  {
   "cell_type": "code",
   "execution_count": 23,
   "id": "2c6238b0",
   "metadata": {},
   "outputs": [
    {
     "data": {
      "text/plain": [
       "{'warm_start': 'False',\n",
       " 'penalty': 'elasticnet',\n",
       " 'max_iter': 1000,\n",
       " 'learning_rate': 'invscaling',\n",
       " 'l1_ratio': 0.1}"
      ]
     },
     "execution_count": 23,
     "metadata": {},
     "output_type": "execute_result"
    }
   ],
   "source": [
    "# finding the best parameters from RandomizedSearch\n",
    "rs_reg.best_params_"
   ]
  },
  {
   "cell_type": "code",
   "execution_count": 24,
   "id": "cb9a21e4",
   "metadata": {},
   "outputs": [
    {
     "data": {
      "text/plain": [
       "0.7255166649133273"
      ]
     },
     "execution_count": 24,
     "metadata": {},
     "output_type": "execute_result"
    }
   ],
   "source": [
    "# scoring the best model (from RandomizedSearchCV) on the validation set\n",
    "y_val_preds = rs_reg.best_estimator_.predict(X_val)\n",
    "np.sqrt(mean_squared_error(y_val, y_val_preds))"
   ]
  },
  {
   "cell_type": "markdown",
   "id": "7cee49f8",
   "metadata": {},
   "source": [
    "#### [4.2.2.2 GridSearchCV](#toc) <a id=sgd-grid-search></a>"
   ]
  },
  {
   "cell_type": "code",
   "execution_count": 25,
   "id": "0e92bd79",
   "metadata": {},
   "outputs": [
    {
     "data": {
      "text/plain": [
       "GridSearchCV(cv=5, estimator=SGDRegressor(),\n",
       "             param_grid={'l1_ratio': [0.1, 0.15, 0.2],\n",
       "                         'learning_rate': ['optimal', 'invscaling'],\n",
       "                         'max_iter': [1400, 1600],\n",
       "                         'penalty': ['l1', 'elasticnet'],\n",
       "                         'warm_start': ['True']},\n",
       "             scoring=make_scorer(mean_squared_error, greater_is_better=False))"
      ]
     },
     "execution_count": 25,
     "metadata": {},
     "output_type": "execute_result"
    }
   ],
   "source": [
    "from sklearn.model_selection import GridSearchCV\n",
    "\n",
    "sgd_reg = SGDRegressor()\n",
    "\n",
    "grid_params = {\n",
    "    \"penalty\": [\"l1\", \"elasticnet\"],\n",
    "    \"l1_ratio\": [0.1, 0.15, 0.2],\n",
    "    \"max_iter\": [1400, 1600],\n",
    "    \"learning_rate\": [\"optimal\", 'invscaling'],\n",
    "    \"warm_start\": [\"True\"],\n",
    "    \n",
    "}\n",
    "\n",
    "gs_reg = GridSearchCV(\n",
    "    sgd_reg,\n",
    "    grid_params,\n",
    "    cv=5,\n",
    "    scoring=scorer,\n",
    ")\n",
    "gs_reg.fit(X_train, y_train)"
   ]
  },
  {
   "cell_type": "code",
   "execution_count": 26,
   "id": "a367e9d6",
   "metadata": {},
   "outputs": [
    {
     "data": {
      "text/plain": [
       "{'l1_ratio': 0.15,\n",
       " 'learning_rate': 'invscaling',\n",
       " 'max_iter': 1600,\n",
       " 'penalty': 'l1',\n",
       " 'warm_start': 'True'}"
      ]
     },
     "execution_count": 26,
     "metadata": {},
     "output_type": "execute_result"
    }
   ],
   "source": [
    "# best parameters\n",
    "gs_reg.best_params_"
   ]
  },
  {
   "cell_type": "code",
   "execution_count": 27,
   "id": "314817d6",
   "metadata": {},
   "outputs": [
    {
     "data": {
      "text/plain": [
       "0.725655742035711"
      ]
     },
     "execution_count": 27,
     "metadata": {},
     "output_type": "execute_result"
    }
   ],
   "source": [
    "# score on validation set\n",
    "y_val_preds = gs_reg.best_estimator_.predict(X_val)\n",
    "np.sqrt(mean_squared_error(y_val, y_val_preds))"
   ]
  },
  {
   "cell_type": "markdown",
   "id": "3fdd0ec8",
   "metadata": {},
   "source": [
    "The model just doesn't seem to be performing all that better than the baseline model even when subject to hyperparameter tuning."
   ]
  },
  {
   "cell_type": "code",
   "execution_count": 53,
   "id": "c84cb7a3",
   "metadata": {},
   "outputs": [],
   "source": [
    "# fitting the model on the entire training data with the best parameters\n",
    "sgd_reg_best = SGDRegressor(penalty='l1', warm_start=True, max_iter=1600, learning_rate='invscaling')\n",
    "X_scaled = scaler.fit_transform(X)\n",
    "sgd_reg_best.fit(X_scaled, y);"
   ]
  },
  {
   "cell_type": "code",
   "execution_count": 54,
   "id": "d7e087a5",
   "metadata": {},
   "outputs": [
    {
     "name": "stderr",
     "output_type": "stream",
     "text": [
      "C:\\ProgramData\\Miniconda3\\lib\\site-packages\\sklearn\\base.py:438: UserWarning: X has feature names, but SGDRegressor was fitted without feature names\n",
      "  warnings.warn(\n"
     ]
    }
   ],
   "source": [
    "# predicting on the test data\n",
    "X_test = test_df.drop(\"id\", axis=1)\n",
    "X_test_scaled = scaler.transform(X_test)\n",
    "y_test_preds = sgd_reg_best.predict(X_test)\n",
    "\n",
    "submit_data = {\n",
    "    \"id\": test_df['id'],\n",
    "    \"target\": y_test_preds,\n",
    "}\n",
    "\n",
    "submit_df = pd.DataFrame(submit_data)\n",
    "submit_df.to_csv(\"submissions/submit_2_sgd_tuned.csv\", index=False)"
   ]
  },
  {
   "cell_type": "markdown",
   "id": "f34c40fb",
   "metadata": {},
   "source": [
    "## [4.3 Lasso Regression](#toc) <a id=lasso></a>\n",
    "\n",
    "By using the `LassoCV()`, the hyperparameter tuning is essentially done automatically by `scikit-learn`."
   ]
  },
  {
   "cell_type": "code",
   "execution_count": 43,
   "id": "d26443b3",
   "metadata": {},
   "outputs": [
    {
     "data": {
      "text/plain": [
       "0.7252786710777028"
      ]
     },
     "execution_count": 43,
     "metadata": {},
     "output_type": "execute_result"
    }
   ],
   "source": [
    "from sklearn.linear_model import LassoCV\n",
    "\n",
    "# instantiating model object\n",
    "lasso_reg = LassoCV(cv=5)\n",
    "\n",
    "# fitting the model\n",
    "lasso_reg.fit(X_train, y_train)\n",
    "\n",
    "# scoring model on validation set\n",
    "y_val_preds = lasso_reg.predict(X_val)\n",
    "np.sqrt(mean_squared_error(y_val, y_val_preds))"
   ]
  },
  {
   "cell_type": "markdown",
   "id": "3439913d",
   "metadata": {},
   "source": [
    "# [5. Conclusion](#toc) <a id=conclusion></a>\n",
    "\n",
    "The best performing model on the test data on Kaggle was the baseline model. It had a score of 0.7271. "
   ]
  },
  {
   "cell_type": "markdown",
   "id": "1e183002",
   "metadata": {},
   "source": [
    "# [6. Way Forward](#toc) <a id=way-forward></a>\n",
    "\n",
    "None of these models seem to be improving the performance of the model. The potential steps that can be taken to improve the model are:\n",
    "* feature reduction to deal with multicollinearity between the various features\n",
    "* try more complex models such as LGBM and XGBoost "
   ]
  }
 ],
 "metadata": {
  "kernelspec": {
   "display_name": "Python 3 (ipykernel)",
   "language": "python",
   "name": "python3"
  },
  "language_info": {
   "codemirror_mode": {
    "name": "ipython",
    "version": 3
   },
   "file_extension": ".py",
   "mimetype": "text/x-python",
   "name": "python",
   "nbconvert_exporter": "python",
   "pygments_lexer": "ipython3",
   "version": "3.9.5"
  }
 },
 "nbformat": 4,
 "nbformat_minor": 5
}
